{
 "cells": [
  {
   "cell_type": "markdown",
   "metadata": {},
   "source": [
    "# Assignment: Compresive Strength Concrete Problem\n",
    "\n",
    "\n",
    "### Abstract: \n",
    "\n",
    "Concrete is the most important material in civil engineering. The concrete compressive strength (concrete strength to bear the load) is a highly nonlinear function of age and ingredients.  <br><br>\n",
    "\n",
    "<table border=\"1\"  cellpadding=\"6\" bordercolor=\"red\">\n",
    "\t<tbody>\n",
    "        <tr>\n",
    "\t\t<td bgcolor=\"#DDEEFF\"><p class=\"normal\"><b>Data Set Characteristics:&nbsp;&nbsp;</b></p></td>\n",
    "\t\t<td><p class=\"normal\">Multivariate</p></td>\n",
    "\t\t<td bgcolor=\"#DDEEFF\"><p class=\"normal\"><b>Number of Instances:</b></p></td>\n",
    "\t\t<td><p class=\"normal\">1030</p></td>\n",
    "\t\t<td bgcolor=\"#DDEEFF\"><p class=\"normal\"><b>Area:</b></p></td>\n",
    "\t\t<td><p class=\"normal\">Physical</p></td>\n",
    "        </tr>\n",
    "     </tbody>\n",
    "    </table>\n",
    "<table border=\"1\" cellpadding=\"6\">\n",
    "    <tbody>\n",
    "        <tr>\n",
    "            <td bgcolor=\"#DDEEFF\"><p class=\"normal\"><b>Attribute Characteristics:</b></p></td>\n",
    "            <td><p class=\"normal\">Real</p></td>\n",
    "            <td bgcolor=\"#DDEEFF\"><p class=\"normal\"><b>Number of Attributes:</b></p></td>\n",
    "            <td><p class=\"normal\">9</p></td>\n",
    "            <td bgcolor=\"#DDEEFF\"><p class=\"normal\"><b>Date Donated</b></p></td>\n",
    "            <td><p class=\"normal\">2007-08-03</p></td>\n",
    "        </tr>\n",
    "     </tbody>\n",
    "    </table>\n",
    "<table border=\"1\" cellpadding=\"6\">\t\n",
    "    <tbody>\n",
    "    <tr>\n",
    "\t\t<td bgcolor=\"#DDEEFF\"><p class=\"normal\"><b>Associated Tasks:</b></p></td>\n",
    "\t\t<td><p class=\"normal\">Regression</p></td>\n",
    "\t\t<td bgcolor=\"#DDEEFF\"><p class=\"normal\"><b>Missing Values?</b></p></td>\n",
    "\t\t<td><p class=\"normal\">N/A</p></td>\n",
    "\t\t<td bgcolor=\"#DDEEFF\"><p class=\"normal\"><b>Number of Web Hits:</b></p></td>\n",
    "\t\t<td><p class=\"normal\">231464</p></td>\n",
    "\t</tr>\n",
    "    </tbody>\n",
    "    </table>"
   ]
  },
  {
   "cell_type": "markdown",
   "metadata": {},
   "source": [
    "###  Description:\n",
    "| Features Name | Data Type | Measurement | Description |\n",
    "| -- | -- | -- | -- |\n",
    "Cement (component 1) | quantitative | kg in a m3 mixture | Input Variable\n",
    "Blast Furnace Slag (component 2) | quantitative | kg in a m3 mixture | Input Variable\n",
    "Fly Ash (component 3) | quantitative | kg in a m3 mixture | Input Variable\n",
    "Water (component 4) | quantitative | kg in a m3 mixture | Input Variable\n",
    "Superplasticizer (component 5) | quantitative | kg in a m3 mixture | Input Variable\n",
    "Coarse Aggregate (component 6) | quantitative | kg in a m3 mixture | Input Variable\n",
    "Fine Aggregate (component 7) | quantitative | kg in a m3 mixture | Input Variable\n",
    "Age | quantitative | Day (1~365) | Input Variable\n",
    "Concrete compressive strength | quantitative | MPa | Output Variable\n",
    "\n",
    "### WORKFLOW :\n",
    "- Load Data\n",
    "- Check Missing Values ( If Exist ; Fill each record with mean of its feature )\n",
    "- Standardized the Input Variables. **Hint**: Centeralized the data\n",
    "- Split into 50% Training(Samples,Labels) , 30% Test(Samples,Labels) and 20% Validation Data(Samples,Labels).\n",
    "- Model : input Layer (No. of features ), 3 hidden layers including 10,8,6 unit & Output Layer with activation function relu/tanh (check by experiment).\n",
    "- Compilation Step (Note : Its a Regression problem , select loss , metrics according to it)\n",
    "- Train the Model with Epochs (100) and validate it\n",
    "- If the model gets overfit tune your model by changing the units , No. of layers , activation function , epochs , add dropout layer or add Regularizer according to the need .\n",
    "- Evaluation Step\n",
    "- Prediction\n"
   ]
  },
  {
   "cell_type": "markdown",
   "metadata": {},
   "source": [
    "# Load Data:\n",
    "[Click Here to Download DataSet](https://github.com/ramsha275/ML_Datasets/blob/main/compresive_strength_concrete.csv)"
   ]
  },
  {
   "cell_type": "code",
   "execution_count": 312,
   "metadata": {},
   "outputs": [],
   "source": [
    "import numpy as np\n",
    "import pandas as pd\n",
    "\n",
    "import matplotlib.pyplot as plt\n",
    "%matplotlib inline\n",
    "import seaborn as sns\n",
    "\n",
    "from tensorflow.keras import models\n",
    "from tensorflow.keras import layers\n",
    "from tensorflow.keras.models import Sequential # Sequential/Functional Api\n",
    "from tensorflow.keras.layers import Dense # type of layer\n",
    "from tensorflow.keras import regularizers\n",
    "from keras.regularizers import l1\n",
    "from keras.regularizers import l2\n"
   ]
  },
  {
   "cell_type": "code",
   "execution_count": 313,
   "metadata": {},
   "outputs": [],
   "source": [
    "df=pd.read_csv(\"compresive_strength_concrete.csv\", index_col = False, header = 0, names = ['Cement', 'Blast Furnace Slag', 'Fly Ash', 'Water', 'Super Plasticizer', 'Coarse Aggregate', 'Fine Aggregate', 'Age', 'Concrete Strength' ])"
   ]
  },
  {
   "cell_type": "code",
   "execution_count": 314,
   "metadata": {},
   "outputs": [
    {
     "data": {
      "text/plain": [
       "Cement                0\n",
       "Blast Furnace Slag    0\n",
       "Fly Ash               0\n",
       "Water                 0\n",
       "Super Plasticizer     0\n",
       "Coarse Aggregate      0\n",
       "Fine Aggregate        0\n",
       "Age                   0\n",
       "Concrete Strength     0\n",
       "dtype: int64"
      ]
     },
     "execution_count": 314,
     "metadata": {},
     "output_type": "execute_result"
    }
   ],
   "source": [
    "df.isna().sum()"
   ]
  },
  {
   "cell_type": "code",
   "execution_count": 315,
   "metadata": {},
   "outputs": [
    {
     "data": {
      "text/html": [
       "<div>\n",
       "<style scoped>\n",
       "    .dataframe tbody tr th:only-of-type {\n",
       "        vertical-align: middle;\n",
       "    }\n",
       "\n",
       "    .dataframe tbody tr th {\n",
       "        vertical-align: top;\n",
       "    }\n",
       "\n",
       "    .dataframe thead th {\n",
       "        text-align: right;\n",
       "    }\n",
       "</style>\n",
       "<table border=\"1\" class=\"dataframe\">\n",
       "  <thead>\n",
       "    <tr style=\"text-align: right;\">\n",
       "      <th></th>\n",
       "      <th>count</th>\n",
       "      <th>mean</th>\n",
       "      <th>std</th>\n",
       "      <th>min</th>\n",
       "      <th>25%</th>\n",
       "      <th>50%</th>\n",
       "      <th>75%</th>\n",
       "      <th>max</th>\n",
       "    </tr>\n",
       "  </thead>\n",
       "  <tbody>\n",
       "    <tr>\n",
       "      <th>Cement</th>\n",
       "      <td>1030.0</td>\n",
       "      <td>281.167864</td>\n",
       "      <td>104.506364</td>\n",
       "      <td>102.00</td>\n",
       "      <td>192.375</td>\n",
       "      <td>272.900</td>\n",
       "      <td>350.000</td>\n",
       "      <td>540.0</td>\n",
       "    </tr>\n",
       "    <tr>\n",
       "      <th>Blast Furnace Slag</th>\n",
       "      <td>1030.0</td>\n",
       "      <td>73.895825</td>\n",
       "      <td>86.279342</td>\n",
       "      <td>0.00</td>\n",
       "      <td>0.000</td>\n",
       "      <td>22.000</td>\n",
       "      <td>142.950</td>\n",
       "      <td>359.4</td>\n",
       "    </tr>\n",
       "    <tr>\n",
       "      <th>Fly Ash</th>\n",
       "      <td>1030.0</td>\n",
       "      <td>54.188350</td>\n",
       "      <td>63.997004</td>\n",
       "      <td>0.00</td>\n",
       "      <td>0.000</td>\n",
       "      <td>0.000</td>\n",
       "      <td>118.300</td>\n",
       "      <td>200.1</td>\n",
       "    </tr>\n",
       "    <tr>\n",
       "      <th>Water</th>\n",
       "      <td>1030.0</td>\n",
       "      <td>181.567282</td>\n",
       "      <td>21.354219</td>\n",
       "      <td>121.80</td>\n",
       "      <td>164.900</td>\n",
       "      <td>185.000</td>\n",
       "      <td>192.000</td>\n",
       "      <td>247.0</td>\n",
       "    </tr>\n",
       "    <tr>\n",
       "      <th>Super Plasticizer</th>\n",
       "      <td>1030.0</td>\n",
       "      <td>6.204660</td>\n",
       "      <td>5.973841</td>\n",
       "      <td>0.00</td>\n",
       "      <td>0.000</td>\n",
       "      <td>6.400</td>\n",
       "      <td>10.200</td>\n",
       "      <td>32.2</td>\n",
       "    </tr>\n",
       "    <tr>\n",
       "      <th>Coarse Aggregate</th>\n",
       "      <td>1030.0</td>\n",
       "      <td>972.918932</td>\n",
       "      <td>77.753954</td>\n",
       "      <td>801.00</td>\n",
       "      <td>932.000</td>\n",
       "      <td>968.000</td>\n",
       "      <td>1029.400</td>\n",
       "      <td>1145.0</td>\n",
       "    </tr>\n",
       "    <tr>\n",
       "      <th>Fine Aggregate</th>\n",
       "      <td>1030.0</td>\n",
       "      <td>773.580485</td>\n",
       "      <td>80.175980</td>\n",
       "      <td>594.00</td>\n",
       "      <td>730.950</td>\n",
       "      <td>779.500</td>\n",
       "      <td>824.000</td>\n",
       "      <td>992.6</td>\n",
       "    </tr>\n",
       "    <tr>\n",
       "      <th>Age</th>\n",
       "      <td>1030.0</td>\n",
       "      <td>45.662136</td>\n",
       "      <td>63.169912</td>\n",
       "      <td>1.00</td>\n",
       "      <td>7.000</td>\n",
       "      <td>28.000</td>\n",
       "      <td>56.000</td>\n",
       "      <td>365.0</td>\n",
       "    </tr>\n",
       "    <tr>\n",
       "      <th>Concrete Strength</th>\n",
       "      <td>1030.0</td>\n",
       "      <td>35.817961</td>\n",
       "      <td>16.705742</td>\n",
       "      <td>2.33</td>\n",
       "      <td>23.710</td>\n",
       "      <td>34.445</td>\n",
       "      <td>46.135</td>\n",
       "      <td>82.6</td>\n",
       "    </tr>\n",
       "  </tbody>\n",
       "</table>\n",
       "</div>"
      ],
      "text/plain": [
       "                     count        mean         std     min      25%      50%  \\\n",
       "Cement              1030.0  281.167864  104.506364  102.00  192.375  272.900   \n",
       "Blast Furnace Slag  1030.0   73.895825   86.279342    0.00    0.000   22.000   \n",
       "Fly Ash             1030.0   54.188350   63.997004    0.00    0.000    0.000   \n",
       "Water               1030.0  181.567282   21.354219  121.80  164.900  185.000   \n",
       "Super Plasticizer   1030.0    6.204660    5.973841    0.00    0.000    6.400   \n",
       "Coarse Aggregate    1030.0  972.918932   77.753954  801.00  932.000  968.000   \n",
       "Fine Aggregate      1030.0  773.580485   80.175980  594.00  730.950  779.500   \n",
       "Age                 1030.0   45.662136   63.169912    1.00    7.000   28.000   \n",
       "Concrete Strength   1030.0   35.817961   16.705742    2.33   23.710   34.445   \n",
       "\n",
       "                         75%     max  \n",
       "Cement               350.000   540.0  \n",
       "Blast Furnace Slag   142.950   359.4  \n",
       "Fly Ash              118.300   200.1  \n",
       "Water                192.000   247.0  \n",
       "Super Plasticizer     10.200    32.2  \n",
       "Coarse Aggregate    1029.400  1145.0  \n",
       "Fine Aggregate       824.000   992.6  \n",
       "Age                   56.000   365.0  \n",
       "Concrete Strength     46.135    82.6  "
      ]
     },
     "execution_count": 315,
     "metadata": {},
     "output_type": "execute_result"
    }
   ],
   "source": [
    "df.describe().T"
   ]
  },
  {
   "cell_type": "code",
   "execution_count": 316,
   "metadata": {},
   "outputs": [],
   "source": [
    "train_df = df.sample(frac=0.7, random_state=0) # will reserve 20% for validation during training\n",
    "test_df = df.drop(train_df.index)"
   ]
  },
  {
   "cell_type": "code",
   "execution_count": 317,
   "metadata": {},
   "outputs": [],
   "source": [
    "# separating the target value, or “label”, from the features.\n",
    "train_labels = train_df.pop('Concrete Strength')\n",
    "test_labels = test_df.pop('Concrete Strength')"
   ]
  },
  {
   "cell_type": "code",
   "execution_count": 318,
   "metadata": {},
   "outputs": [
    {
     "data": {
      "text/html": [
       "<div>\n",
       "<style scoped>\n",
       "    .dataframe tbody tr th:only-of-type {\n",
       "        vertical-align: middle;\n",
       "    }\n",
       "\n",
       "    .dataframe tbody tr th {\n",
       "        vertical-align: top;\n",
       "    }\n",
       "\n",
       "    .dataframe thead th {\n",
       "        text-align: right;\n",
       "    }\n",
       "</style>\n",
       "<table border=\"1\" class=\"dataframe\">\n",
       "  <thead>\n",
       "    <tr style=\"text-align: right;\">\n",
       "      <th></th>\n",
       "      <th>count</th>\n",
       "      <th>mean</th>\n",
       "      <th>std</th>\n",
       "      <th>min</th>\n",
       "      <th>25%</th>\n",
       "      <th>50%</th>\n",
       "      <th>75%</th>\n",
       "      <th>max</th>\n",
       "    </tr>\n",
       "  </thead>\n",
       "  <tbody>\n",
       "    <tr>\n",
       "      <th>Cement</th>\n",
       "      <td>721.0</td>\n",
       "      <td>-2.120203e-15</td>\n",
       "      <td>1.0</td>\n",
       "      <td>-1.716146</td>\n",
       "      <td>-0.829111</td>\n",
       "      <td>-0.146850</td>\n",
       "      <td>0.656936</td>\n",
       "      <td>2.475023</td>\n",
       "    </tr>\n",
       "    <tr>\n",
       "      <th>Blast Furnace Slag</th>\n",
       "      <td>721.0</td>\n",
       "      <td>-5.575753e-16</td>\n",
       "      <td>1.0</td>\n",
       "      <td>-0.837300</td>\n",
       "      <td>-0.837300</td>\n",
       "      <td>-0.604234</td>\n",
       "      <td>0.809311</td>\n",
       "      <td>3.350896</td>\n",
       "    </tr>\n",
       "    <tr>\n",
       "      <th>Fly Ash</th>\n",
       "      <td>721.0</td>\n",
       "      <td>3.416900e-16</td>\n",
       "      <td>1.0</td>\n",
       "      <td>-0.865080</td>\n",
       "      <td>-0.865080</td>\n",
       "      <td>-0.865080</td>\n",
       "      <td>0.987597</td>\n",
       "      <td>2.268654</td>\n",
       "    </tr>\n",
       "    <tr>\n",
       "      <th>Water</th>\n",
       "      <td>721.0</td>\n",
       "      <td>2.650754e-15</td>\n",
       "      <td>1.0</td>\n",
       "      <td>-2.842623</td>\n",
       "      <td>-0.811102</td>\n",
       "      <td>0.169307</td>\n",
       "      <td>0.508679</td>\n",
       "      <td>3.058686</td>\n",
       "    </tr>\n",
       "    <tr>\n",
       "      <th>Super Plasticizer</th>\n",
       "      <td>721.0</td>\n",
       "      <td>2.228145e-16</td>\n",
       "      <td>1.0</td>\n",
       "      <td>-1.015540</td>\n",
       "      <td>-1.015540</td>\n",
       "      <td>-0.015215</td>\n",
       "      <td>0.685012</td>\n",
       "      <td>4.352869</td>\n",
       "    </tr>\n",
       "    <tr>\n",
       "      <th>Coarse Aggregate</th>\n",
       "      <td>721.0</td>\n",
       "      <td>1.623436e-14</td>\n",
       "      <td>1.0</td>\n",
       "      <td>-2.255394</td>\n",
       "      <td>-0.552474</td>\n",
       "      <td>-0.084496</td>\n",
       "      <td>0.713667</td>\n",
       "      <td>2.216396</td>\n",
       "    </tr>\n",
       "    <tr>\n",
       "      <th>Fine Aggregate</th>\n",
       "      <td>721.0</td>\n",
       "      <td>1.756377e-15</td>\n",
       "      <td>1.0</td>\n",
       "      <td>-2.216423</td>\n",
       "      <td>-0.648892</td>\n",
       "      <td>0.094344</td>\n",
       "      <td>0.664242</td>\n",
       "      <td>2.754283</td>\n",
       "    </tr>\n",
       "    <tr>\n",
       "      <th>Age</th>\n",
       "      <td>721.0</td>\n",
       "      <td>5.682001e-17</td>\n",
       "      <td>1.0</td>\n",
       "      <td>-0.712798</td>\n",
       "      <td>-0.503688</td>\n",
       "      <td>-0.278493</td>\n",
       "      <td>0.171897</td>\n",
       "      <td>5.142275</td>\n",
       "    </tr>\n",
       "  </tbody>\n",
       "</table>\n",
       "</div>"
      ],
      "text/plain": [
       "                    count          mean  std       min       25%       50%  \\\n",
       "Cement              721.0 -2.120203e-15  1.0 -1.716146 -0.829111 -0.146850   \n",
       "Blast Furnace Slag  721.0 -5.575753e-16  1.0 -0.837300 -0.837300 -0.604234   \n",
       "Fly Ash             721.0  3.416900e-16  1.0 -0.865080 -0.865080 -0.865080   \n",
       "Water               721.0  2.650754e-15  1.0 -2.842623 -0.811102  0.169307   \n",
       "Super Plasticizer   721.0  2.228145e-16  1.0 -1.015540 -1.015540 -0.015215   \n",
       "Coarse Aggregate    721.0  1.623436e-14  1.0 -2.255394 -0.552474 -0.084496   \n",
       "Fine Aggregate      721.0  1.756377e-15  1.0 -2.216423 -0.648892  0.094344   \n",
       "Age                 721.0  5.682001e-17  1.0 -0.712798 -0.503688 -0.278493   \n",
       "\n",
       "                         75%       max  \n",
       "Cement              0.656936  2.475023  \n",
       "Blast Furnace Slag  0.809311  3.350896  \n",
       "Fly Ash             0.987597  2.268654  \n",
       "Water               0.508679  3.058686  \n",
       "Super Plasticizer   0.685012  4.352869  \n",
       "Coarse Aggregate    0.713667  2.216396  \n",
       "Fine Aggregate      0.664242  2.754283  \n",
       "Age                 0.171897  5.142275  "
      ]
     },
     "execution_count": 318,
     "metadata": {},
     "output_type": "execute_result"
    }
   ],
   "source": [
    "##### Data Normalization ######\n",
    "mean = train_df.mean(axis=0)\n",
    "train_df -= mean\n",
    "std = train_df.std(axis=0)\n",
    "train_df /= std\n",
    "\n",
    "test_df -= mean\n",
    "test_df /= std\n",
    "\n",
    "train_df.describe().T"
   ]
  },
  {
   "cell_type": "code",
   "execution_count": 319,
   "metadata": {},
   "outputs": [
    {
     "data": {
      "text/plain": [
       "Text(0.5, 1, 'Correlation Between Variables')"
      ]
     },
     "execution_count": 319,
     "metadata": {},
     "output_type": "execute_result"
    },
    {
     "data": {
      "image/png": "[encoded data removed]",
      "text/plain": [
       "<Figure size 432x288 with 2 Axes>"
      ]
     },
     "metadata": {
      "needs_background": "light"
     },
     "output_type": "display_data"
    }
   ],
   "source": [
    "corr = df.corr()\n",
    "sns.heatmap(corr,xticklabels=True,yticklabels=True,annot = True,cmap ='coolwarm')\n",
    "plt.title(\"Correlation Between Variables\")"
   ]
  },
  {
   "cell_type": "code",
   "execution_count": 335,
   "metadata": {},
   "outputs": [],
   "source": [
    "def build_model():\n",
    "    from tensorflow import keras\n",
    "    model = models.Sequential()\n",
    "    model.add(layers.Dense(256, activation='relu',\n",
    "                           input_shape=(train_df.shape[1],)))\n",
    "    model.add(layers.Dropout(0.1))\n",
    "    model.add(layers.Dense(256, kernel_regularizer=regularizers.l1_l2(l1=0.001,l2=0.001), activation='relu'))\n",
    "    model.add(layers.Dropout(0.1))  \n",
    "    model.add(layers.Dense(128, kernel_regularizer=regularizers.l1_l2(l1=0.001,l2=0.001), activation='relu'))\n",
    "    model.add(layers.Dropout(0.1))\n",
    "    model.add(layers.Dense(128, kernel_regularizer=regularizers.l1_l2(l1=0.001,l2=0.001), activation='relu'))\n",
    "    model.add(layers.Dropout(0.1))\n",
    "    model.add(layers.Dense(1))\n",
    "    model.compile(optimizer= 'rmsprop', loss='mse', metrics=['mae'])\n",
    "    return model"
   ]
  },
  {
   "cell_type": "code",
   "execution_count": 336,
   "metadata": {},
   "outputs": [
    {
     "name": "stdout",
     "output_type": "stream",
     "text": [
      "Model: \"sequential_35\"\n",
      "_________________________________________________________________\n",
      "Layer (type)                 Output Shape              Param #   \n",
      "=================================================================\n",
      "dense_181 (Dense)            (None, 256)               2304      \n",
      "_________________________________________________________________\n",
      "dropout_117 (Dropout)        (None, 256)               0         \n",
      "_________________________________________________________________\n",
      "dense_182 (Dense)            (None, 256)               65792     \n",
      "_________________________________________________________________\n",
      "dropout_118 (Dropout)        (None, 256)               0         \n",
      "_________________________________________________________________\n",
      "dense_183 (Dense)            (None, 128)               32896     \n",
      "_________________________________________________________________\n",
      "dropout_119 (Dropout)        (None, 128)               0         \n",
      "_________________________________________________________________\n",
      "dense_184 (Dense)            (None, 128)               16512     \n",
      "_________________________________________________________________\n",
      "dropout_120 (Dropout)        (None, 128)               0         \n",
      "_________________________________________________________________\n",
      "dense_185 (Dense)            (None, 1)                 129       \n",
      "=================================================================\n",
      "Total params: 117,633\n",
      "Trainable params: 117,633\n",
      "Non-trainable params: 0\n",
      "_________________________________________________________________\n"
     ]
    }
   ],
   "source": [
    "model = build_model()\n",
    "model.summary()"
   ]
  },
  {
   "cell_type": "code",
   "execution_count": 337,
   "metadata": {},
   "outputs": [
    {
     "data": {
      "text/plain": [
       "array([[-0.02423283],\n",
       "       [-0.07675429],\n",
       "       [-0.03675942],\n",
       "       [-0.00755038],\n",
       "       [-0.05094742],\n",
       "       [-0.07286319],\n",
       "       [-0.00096497],\n",
       "       [-0.07585611],\n",
       "       [ 0.03474276],\n",
       "       [-0.12756082]], dtype=float32)"
      ]
     },
     "execution_count": 337,
     "metadata": {},
     "output_type": "execute_result"
    }
   ],
   "source": [
    "example_batch = train_df[:10]\n",
    "example_result = model.predict(example_batch)\n",
    "example_result"
   ]
  },
  {
   "cell_type": "code",
   "execution_count": 338,
   "metadata": {},
   "outputs": [
    {
     "name": "stdout",
     "output_type": "stream",
     "text": [
      "\n",
      "Epoch: 0, loss:702.9412,  mean_absolute_error:21.0136,  val_loss:263.5988,  val_mean_absolute_error:13.0863,  \n",
      "....................................................................................................\n",
      "Epoch: 100, loss:37.5352,  mean_absolute_error:4.1732,  val_loss:31.7820,  val_mean_absolute_error:3.7593,  \n",
      "....................................................................................................\n",
      "Epoch: 200, loss:23.8827,  mean_absolute_error:3.3426,  val_loss:37.4929,  val_mean_absolute_error:4.2267,  \n",
      "....................................................................................................\n",
      "Epoch: 300, loss:18.7766,  mean_absolute_error:2.8765,  val_loss:25.1197,  val_mean_absolute_error:3.3507,  \n",
      "....................................................................................................\n",
      "Epoch: 400, loss:18.1859,  mean_absolute_error:2.9185,  val_loss:28.3595,  val_mean_absolute_error:3.4994,  \n",
      "....................................................................................................\n",
      "Epoch: 500, loss:16.1722,  mean_absolute_error:2.7648,  val_loss:23.5074,  val_mean_absolute_error:3.2879,  \n",
      "....................................................................................................\n",
      "Epoch: 600, loss:14.8515,  mean_absolute_error:2.5992,  val_loss:25.3720,  val_mean_absolute_error:3.3519,  \n",
      "....................................................................................................\n",
      "Epoch: 700, loss:13.5008,  mean_absolute_error:2.4262,  val_loss:26.1309,  val_mean_absolute_error:3.4623,  \n",
      "....................................................................................................\n",
      "Epoch: 800, loss:13.9046,  mean_absolute_error:2.4090,  val_loss:28.1856,  val_mean_absolute_error:3.6297,  \n",
      "....................................................................................................\n",
      "Epoch: 900, loss:13.5969,  mean_absolute_error:2.4701,  val_loss:27.5160,  val_mean_absolute_error:3.6383,  \n",
      "...................................................................................................."
     ]
    }
   ],
   "source": [
    "EPOCHS = 1000\n",
    "\n",
    "history = model.fit(\n",
    "  train_df, train_labels,\n",
    "  epochs=EPOCHS, validation_split = 0.2, verbose=0,\n",
    "  callbacks=[tfdocs.modeling.EpochDots()])"
   ]
  },
  {
   "cell_type": "code",
   "execution_count": 339,
   "metadata": {},
   "outputs": [
    {
     "name": "stdout",
     "output_type": "stream",
     "text": [
      "[[37.673695]]\n"
     ]
    }
   ],
   "source": [
    "example_batch = test_df[5:6]\n",
    "example_batch\n",
    "\n",
    "example_result = model.predict(example_batch)\n",
    "print(example_result)"
   ]
  },
  {
   "cell_type": "code",
   "execution_count": 340,
   "metadata": {},
   "outputs": [
    {
     "name": "stdout",
     "output_type": "stream",
     "text": [
      "0.9011343429034845\n"
     ]
    }
   ],
   "source": [
    "test_predictions = model.predict(test_df).flatten()\n",
    "\n",
    "from sklearn.metrics import r2_score\n",
    "print(r2_score(test_labels,test_predictions))"
   ]
  },
  {
   "cell_type": "code",
   "execution_count": 341,
   "metadata": {},
   "outputs": [
    {
     "data": {
      "image/png": "[encoded data removed]",
      "text/plain": [
       "<Figure size 432x288 with 1 Axes>"
      ]
     },
     "metadata": {
      "needs_background": "light"
     },
     "output_type": "display_data"
    }
   ],
   "source": [
    "error = test_predictions - test_labels\n",
    "plt.hist(error, bins = 15)\n",
    "plt.xlabel(\"Prediction Error [Concrete Strength] on Test Data\")\n",
    "_ = plt.ylabel(\"Count\")"
   ]
  },
  {
   "cell_type": "code",
   "execution_count": null,
   "metadata": {},
   "outputs": [],
   "source": []
  }
 ],
 "metadata": {
  "kernelspec": {
   "display_name": "Python 3",
   "language": "python",
   "name": "python3"
  },
  "language_info": {
   "codemirror_mode": {
    "name": "ipython",
    "version": 3
   },
   "file_extension": ".py",
   "mimetype": "text/x-python",
   "name": "python",
   "nbconvert_exporter": "python",
   "pygments_lexer": "ipython3",
   "version": "3.7.6"
  }
 },
 "nbformat": 4,
 "nbformat_minor": 2
}
